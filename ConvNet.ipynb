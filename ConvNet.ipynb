{
 "cells": [
  {
   "cell_type": "markdown",
   "metadata": {},
   "source": [
    "# Doggos vs Cattos\n",
    "\n",
    "### Computer Vision\n",
    "\n",
    "### Project: Build a Neural Network classifier that will classify pictures of dogs and cats.\n",
    "_**Doggos vs Cattos**_ is a machine learning project focused on researching how diffrent learning algorithms perform in terms of classification RGB images and what kind of information can be mined using them."
   ]
  },
  {
   "cell_type": "markdown",
   "metadata": {},
   "source": [
    "### Load data"
   ]
  },
  {
   "cell_type": "code",
   "execution_count": 1,
   "metadata": {},
   "outputs": [],
   "source": [
    "import tensorflow as tf\n",
    "import numpy as np\n",
    "import matplotlib.pyplot as plt\n",
    "%matplotlib inline\n",
    "\n",
    "from dogs_vs_cats import data_utils\n",
    "\n",
    "plt.rcParams['figure.figsize'] = (7.0, 7.0)\n",
    "plt.rcParams['image.interpolation'] = 'nearest'\n",
    "plt.rcParams['image.cmap'] = 'gray'\n",
    "\n",
    "# Some magic so that the notebook will reload external python modules\n",
    "%load_ext autoreload\n",
    "%autoreload 2"
   ]
  },
  {
   "cell_type": "markdown",
   "metadata": {},
   "source": [
    "Check if tensorflow works with GPU"
   ]
  },
  {
   "cell_type": "code",
   "execution_count": 2,
   "metadata": {},
   "outputs": [
    {
     "data": {
      "text/plain": [
       "True"
      ]
     },
     "execution_count": 2,
     "metadata": {},
     "output_type": "execute_result"
    }
   ],
   "source": [
    "tf.test.is_built_with_cuda()"
   ]
  },
  {
   "cell_type": "code",
   "execution_count": 3,
   "metadata": {},
   "outputs": [
    {
     "data": {
      "text/plain": [
       "[PhysicalDevice(name='/physical_device:GPU:0', device_type='GPU')]"
      ]
     },
     "execution_count": 3,
     "metadata": {},
     "output_type": "execute_result"
    }
   ],
   "source": [
    "tf.config.list_physical_devices('GPU')"
   ]
  },
  {
   "cell_type": "code",
   "execution_count": 4,
   "metadata": {},
   "outputs": [
    {
     "name": "stdout",
     "output_type": "stream",
     "text": [
      "Found 18000 images belonging to 2 classes.\n",
      "Found 2000 images belonging to 2 classes.\n"
     ]
    }
   ],
   "source": [
    "from tensorflow.keras.preprocessing.image import ImageDataGenerator\n",
    "from dogs_vs_cats import extract_data\n",
    "\n",
    "img_width = 150\n",
    "img_height = 150\n",
    "channels = 3\n",
    "\n",
    "train_datagen = ImageDataGenerator(rescale=1./255)\n",
    "train_gen = train_datagen.flow_from_directory(extract_data.TRAIN_DATA_PATH,\n",
    "                                              target_size=(img_width, img_height),\n",
    "                                              batch_size=20,\n",
    "                                              class_mode='binary')\n",
    "\n",
    "val_datagen = ImageDataGenerator(rescale=1./255)\n",
    "val_gen = train_datagen.flow_from_directory(extract_data.VAL_DATA_PATH,\n",
    "                                            target_size=(img_width, img_height),\n",
    "                                            batch_size=20,\n",
    "                                            class_mode='binary')"
   ]
  },
  {
   "cell_type": "markdown",
   "metadata": {},
   "source": [
    "### Neural network model"
   ]
  },
  {
   "cell_type": "code",
   "execution_count": 5,
   "metadata": {},
   "outputs": [],
   "source": [
    "from tensorflow.keras import models, layers\n",
    "\n",
    "neural_net = models.Sequential([\n",
    "    layers.Conv2D(32, (3, 3), activation='relu', input_shape=(img_width, img_height, channels)),\n",
    "    layers.MaxPooling2D((2, 2)),\n",
    "    layers.Conv2D(64, (3, 3), activation='relu'),\n",
    "    layers.MaxPooling2D((2, 2)),\n",
    "    layers.Conv2D(128, (3, 3), activation='relu'),\n",
    "    layers.MaxPooling2D((2, 2)),\n",
    "    layers.Conv2D(128, (3, 3), activation='relu'),\n",
    "    layers.MaxPooling2D((2, 2)),\n",
    "    layers.Flatten(),\n",
    "    layers.Dense(512, activation='relu'),\n",
    "    layers.Dropout(0.4),\n",
    "    layers.Dense(1, activation='sigmoid')\n",
    "])\n",
    "\n",
    "neural_net.compile(optimizer=tf.keras.optimizers.Adam(lr=1e-4),\n",
    "                   loss='binary_crossentropy',\n",
    "                   metrics=['acc'])"
   ]
  },
  {
   "cell_type": "code",
   "execution_count": 6,
   "metadata": {},
   "outputs": [
    {
     "name": "stdout",
     "output_type": "stream",
     "text": [
      "Model: \"sequential\"\n",
      "_________________________________________________________________\n",
      "Layer (type)                 Output Shape              Param #   \n",
      "=================================================================\n",
      "conv2d (Conv2D)              (None, 148, 148, 32)      896       \n",
      "_________________________________________________________________\n",
      "max_pooling2d (MaxPooling2D) (None, 74, 74, 32)        0         \n",
      "_________________________________________________________________\n",
      "conv2d_1 (Conv2D)            (None, 72, 72, 64)        18496     \n",
      "_________________________________________________________________\n",
      "max_pooling2d_1 (MaxPooling2 (None, 36, 36, 64)        0         \n",
      "_________________________________________________________________\n",
      "conv2d_2 (Conv2D)            (None, 34, 34, 128)       73856     \n",
      "_________________________________________________________________\n",
      "max_pooling2d_2 (MaxPooling2 (None, 17, 17, 128)       0         \n",
      "_________________________________________________________________\n",
      "conv2d_3 (Conv2D)            (None, 15, 15, 128)       147584    \n",
      "_________________________________________________________________\n",
      "max_pooling2d_3 (MaxPooling2 (None, 7, 7, 128)         0         \n",
      "_________________________________________________________________\n",
      "flatten (Flatten)            (None, 6272)              0         \n",
      "_________________________________________________________________\n",
      "dense (Dense)                (None, 512)               3211776   \n",
      "_________________________________________________________________\n",
      "dropout (Dropout)            (None, 512)               0         \n",
      "_________________________________________________________________\n",
      "dense_1 (Dense)              (None, 1)                 513       \n",
      "=================================================================\n",
      "Total params: 3,453,121\n",
      "Trainable params: 3,453,121\n",
      "Non-trainable params: 0\n",
      "_________________________________________________________________\n"
     ]
    }
   ],
   "source": [
    "neural_net.summary()"
   ]
  },
  {
   "cell_type": "code",
   "execution_count": 7,
   "metadata": {},
   "outputs": [
    {
     "name": "stdout",
     "output_type": "stream",
     "text": [
      "WARNING:tensorflow:sample_weight modes were coerced from\n",
      "  ...\n",
      "    to  \n",
      "  ['...']\n",
      "WARNING:tensorflow:sample_weight modes were coerced from\n",
      "  ...\n",
      "    to  \n",
      "  ['...']\n",
      "Train for 100 steps, validate for 50 steps\n",
      "Epoch 1/45\n",
      "100/100 [==============================] - 40s 398ms/step - loss: 0.6889 - acc: 0.5350 - val_loss: 0.6916 - val_acc: 0.4890\n",
      "Epoch 2/45\n",
      "100/100 [==============================] - 28s 282ms/step - loss: 0.6818 - acc: 0.5515 - val_loss: 0.6678 - val_acc: 0.5830\n",
      "Epoch 3/45\n",
      "100/100 [==============================] - 23s 228ms/step - loss: 0.6575 - acc: 0.5955 - val_loss: 0.6408 - val_acc: 0.6050\n",
      "Epoch 4/45\n",
      "100/100 [==============================] - 26s 258ms/step - loss: 0.6341 - acc: 0.6380 - val_loss: 0.5840 - val_acc: 0.7140\n",
      "Epoch 5/45\n",
      "100/100 [==============================] - 34s 339ms/step - loss: 0.5800 - acc: 0.6930 - val_loss: 0.5691 - val_acc: 0.7260\n",
      "Epoch 6/45\n",
      "100/100 [==============================] - 24s 245ms/step - loss: 0.5797 - acc: 0.6985 - val_loss: 0.5792 - val_acc: 0.7070\n",
      "Epoch 7/45\n",
      "100/100 [==============================] - 27s 268ms/step - loss: 0.5735 - acc: 0.6940 - val_loss: 0.5637 - val_acc: 0.7190\n",
      "Epoch 8/45\n",
      "100/100 [==============================] - 28s 281ms/step - loss: 0.5528 - acc: 0.7320 - val_loss: 0.5378 - val_acc: 0.7410\n",
      "Epoch 9/45\n",
      "100/100 [==============================] - 25s 254ms/step - loss: 0.5497 - acc: 0.7145 - val_loss: 0.5234 - val_acc: 0.7540\n",
      "Epoch 10/45\n",
      "100/100 [==============================] - 23s 232ms/step - loss: 0.5332 - acc: 0.7190 - val_loss: 0.5229 - val_acc: 0.7600\n",
      "Epoch 11/45\n",
      "100/100 [==============================] - 26s 260ms/step - loss: 0.5337 - acc: 0.7250 - val_loss: 0.5164 - val_acc: 0.7630\n",
      "Epoch 12/45\n",
      "100/100 [==============================] - 22s 224ms/step - loss: 0.5148 - acc: 0.7425 - val_loss: 0.5078 - val_acc: 0.7720\n",
      "Epoch 13/45\n",
      "100/100 [==============================] - 18s 182ms/step - loss: 0.5068 - acc: 0.7565 - val_loss: 0.4898 - val_acc: 0.7800\n",
      "Epoch 14/45\n",
      "100/100 [==============================] - 19s 193ms/step - loss: 0.5063 - acc: 0.7540 - val_loss: 0.4766 - val_acc: 0.7830\n",
      "Epoch 15/45\n",
      "100/100 [==============================] - 22s 215ms/step - loss: 0.4935 - acc: 0.7515 - val_loss: 0.5045 - val_acc: 0.7670\n",
      "Epoch 16/45\n",
      "100/100 [==============================] - 19s 187ms/step - loss: 0.4759 - acc: 0.7645 - val_loss: 0.4653 - val_acc: 0.7790\n",
      "Epoch 17/45\n",
      "100/100 [==============================] - 21s 211ms/step - loss: 0.4782 - acc: 0.7795 - val_loss: 0.4781 - val_acc: 0.7620\n",
      "Epoch 18/45\n",
      "100/100 [==============================] - 20s 198ms/step - loss: 0.4624 - acc: 0.7745 - val_loss: 0.4520 - val_acc: 0.7930\n",
      "Epoch 19/45\n",
      "100/100 [==============================] - 15s 146ms/step - loss: 0.4521 - acc: 0.7855 - val_loss: 0.4422 - val_acc: 0.8070\n",
      "Epoch 20/45\n",
      "100/100 [==============================] - 16s 158ms/step - loss: 0.4473 - acc: 0.8030 - val_loss: 0.4438 - val_acc: 0.7990\n",
      "Epoch 21/45\n",
      "100/100 [==============================] - 15s 147ms/step - loss: 0.4337 - acc: 0.7950 - val_loss: 0.4499 - val_acc: 0.8070\n",
      "Epoch 22/45\n",
      "100/100 [==============================] - 13s 130ms/step - loss: 0.4211 - acc: 0.8045 - val_loss: 0.4650 - val_acc: 0.7770\n",
      "Epoch 23/45\n",
      "100/100 [==============================] - 12s 120ms/step - loss: 0.3967 - acc: 0.8155 - val_loss: 0.4385 - val_acc: 0.7890\n",
      "Epoch 24/45\n",
      "100/100 [==============================] - 14s 141ms/step - loss: 0.4199 - acc: 0.8090 - val_loss: 0.4399 - val_acc: 0.8020\n",
      "Epoch 25/45\n",
      "100/100 [==============================] - 13s 130ms/step - loss: 0.4358 - acc: 0.7900 - val_loss: 0.4300 - val_acc: 0.8070\n",
      "Epoch 26/45\n",
      "100/100 [==============================] - 22s 223ms/step - loss: 0.4090 - acc: 0.8170 - val_loss: 0.4235 - val_acc: 0.8050\n",
      "Epoch 27/45\n",
      "100/100 [==============================] - 20s 199ms/step - loss: 0.4007 - acc: 0.8265 - val_loss: 0.4114 - val_acc: 0.8140\n",
      "Epoch 28/45\n",
      "100/100 [==============================] - 22s 219ms/step - loss: 0.3821 - acc: 0.8380 - val_loss: 0.3995 - val_acc: 0.8260\n",
      "Epoch 29/45\n",
      "100/100 [==============================] - 21s 210ms/step - loss: 0.3815 - acc: 0.8365 - val_loss: 0.4689 - val_acc: 0.7810\n",
      "Epoch 30/45\n",
      "100/100 [==============================] - 20s 197ms/step - loss: 0.4140 - acc: 0.8020 - val_loss: 0.4027 - val_acc: 0.8090\n",
      "Epoch 31/45\n",
      "100/100 [==============================] - 18s 185ms/step - loss: 0.3913 - acc: 0.8205 - val_loss: 0.3949 - val_acc: 0.8290\n",
      "Epoch 32/45\n",
      "100/100 [==============================] - 18s 182ms/step - loss: 0.3892 - acc: 0.8245 - val_loss: 0.4187 - val_acc: 0.8090\n",
      "Epoch 33/45\n",
      "100/100 [==============================] - 18s 176ms/step - loss: 0.3711 - acc: 0.8350 - val_loss: 0.3908 - val_acc: 0.8240\n",
      "Epoch 34/45\n",
      "100/100 [==============================] - 14s 145ms/step - loss: 0.3537 - acc: 0.8400 - val_loss: 0.3890 - val_acc: 0.8190\n",
      "Epoch 35/45\n",
      "100/100 [==============================] - 14s 143ms/step - loss: 0.3588 - acc: 0.8510 - val_loss: 0.3949 - val_acc: 0.8180\n",
      "Epoch 36/45\n",
      "100/100 [==============================] - 17s 171ms/step - loss: 0.3689 - acc: 0.8275 - val_loss: 0.3909 - val_acc: 0.8350\n",
      "Epoch 37/45\n",
      "100/100 [==============================] - 14s 139ms/step - loss: 0.3405 - acc: 0.8520 - val_loss: 0.3840 - val_acc: 0.8290\n",
      "Epoch 38/45\n",
      "100/100 [==============================] - 12s 118ms/step - loss: 0.3490 - acc: 0.8495 - val_loss: 0.3994 - val_acc: 0.8250\n",
      "Epoch 39/45\n",
      "100/100 [==============================] - 12s 125ms/step - loss: 0.3442 - acc: 0.8460 - val_loss: 0.3859 - val_acc: 0.8330\n",
      "Epoch 40/45\n",
      "100/100 [==============================] - 12s 123ms/step - loss: 0.3470 - acc: 0.8545 - val_loss: 0.3815 - val_acc: 0.8330\n",
      "Epoch 41/45\n",
      "100/100 [==============================] - 12s 118ms/step - loss: 0.3522 - acc: 0.8465 - val_loss: 0.3661 - val_acc: 0.8450\n",
      "Epoch 42/45\n",
      "100/100 [==============================] - 11s 110ms/step - loss: 0.3299 - acc: 0.8550 - val_loss: 0.3705 - val_acc: 0.8390\n",
      "Epoch 43/45\n",
      "100/100 [==============================] - 12s 118ms/step - loss: 0.3290 - acc: 0.8630 - val_loss: 0.4073 - val_acc: 0.8200\n",
      "Epoch 44/45\n",
      "100/100 [==============================] - 11s 107ms/step - loss: 0.3371 - acc: 0.8485 - val_loss: 0.3780 - val_acc: 0.8290\n",
      "Epoch 45/45\n",
      "100/100 [==============================] - 11s 111ms/step - loss: 0.3073 - acc: 0.8625 - val_loss: 0.3549 - val_acc: 0.8390\n"
     ]
    }
   ],
   "source": [
    "history = neural_net.fit(train_gen, steps_per_epoch=100,\n",
    "                         epochs=45,\n",
    "                         validation_data=val_gen,\n",
    "                         validation_steps=50)"
   ]
  },
  {
   "cell_type": "code",
   "execution_count": 8,
   "metadata": {},
   "outputs": [
    {
     "data": {
      "text/plain": [
       "dict_keys(['loss', 'acc', 'val_loss', 'val_acc'])"
      ]
     },
     "execution_count": 8,
     "metadata": {},
     "output_type": "execute_result"
    }
   ],
   "source": [
    "hist_dict = history.history\n",
    "hist_dict.keys()"
   ]
  },
  {
   "cell_type": "code",
   "execution_count": 9,
   "metadata": {},
   "outputs": [
    {
     "data": {
      "text/plain": [
       "<matplotlib.legend.Legend at 0x19c8c9078c8>"
      ]
     },
     "execution_count": 9,
     "metadata": {},
     "output_type": "execute_result"
    },
    {
     "data": {
      "image/png": "[encoded data removed]",
      "text/plain": [
       "<Figure size 432x288 with 1 Axes>"
      ]
     },
     "metadata": {
      "needs_background": "light"
     },
     "output_type": "display_data"
    }
   ],
   "source": [
    "# Plot accuracy\n",
    "train_acc = hist_dict['acc']\n",
    "val_acc = hist_dict['val_acc']\n",
    "\n",
    "epochs = np.arange(1, 46)\n",
    "\n",
    "plt.plot(epochs, train_acc, 'bo', label='Train accuracy')\n",
    "plt.plot(epochs, val_acc, 'r-', label='Validation accuracy')\n",
    "plt.grid()\n",
    "plt.legend(loc='best')"
   ]
  },
  {
   "cell_type": "code",
   "execution_count": 10,
   "metadata": {},
   "outputs": [
    {
     "data": {
      "text/plain": [
       "<matplotlib.legend.Legend at 0x19c8c6d1dc8>"
      ]
     },
     "execution_count": 10,
     "metadata": {},
     "output_type": "execute_result"
    },
    {
     "data": {
      "image/png": "[encoded data removed]",
      "text/plain": [
       "<Figure size 432x288 with 1 Axes>"
      ]
     },
     "metadata": {
      "needs_background": "light"
     },
     "output_type": "display_data"
    }
   ],
   "source": [
    "# Plot loss\n",
    "train_loss = hist_dict['loss']\n",
    "val_loss = hist_dict['val_loss']\n",
    "\n",
    "plt.plot(epochs, train_loss, 'bo', label='Train loss')\n",
    "plt.plot(epochs, val_loss, 'r-', label='Validation loss')\n",
    "plt.grid()\n",
    "plt.legend(loc='best')"
   ]
  },
  {
   "cell_type": "code",
   "execution_count": 11,
   "metadata": {},
   "outputs": [
    {
     "name": "stdout",
     "output_type": "stream",
     "text": [
      "Found 5000 images belonging to 2 classes.\n",
      "WARNING:tensorflow:sample_weight modes were coerced from\n",
      "  ...\n",
      "    to  \n",
      "  ['...']\n",
      "250/250 - 37s - loss: 0.3688 - acc: 0.8332\n",
      "Model accuracy : 0.8331999778747559\n",
      "Model loss : 0.36884602630138397\n"
     ]
    }
   ],
   "source": [
    "test_datagen = ImageDataGenerator(rescale=1./255)\n",
    "test_gen = train_datagen.flow_from_directory(extract_data.TEST_DATA_PATH,\n",
    "                                            target_size=(img_width, img_height),\n",
    "                                            batch_size=20,\n",
    "                                            class_mode='binary')\n",
    "\n",
    "test_loss, test_acc = neural_net.evaluate(test_gen, verbose=2)\n",
    "print(f'Model accuracy : {test_acc}\\nModel loss : {test_loss}')"
   ]
  },
  {
   "cell_type": "markdown",
   "metadata": {},
   "source": [
    "### Transfer learning with VGG16 architecture"
   ]
  },
  {
   "cell_type": "code",
   "execution_count": 12,
   "metadata": {},
   "outputs": [],
   "source": [
    "from tensorflow.keras.applications import VGG16\n",
    "\n",
    "conv_base = VGG16(weights='imagenet', include_top=False, input_shape=(150, 150, 3)) "
   ]
  },
  {
   "cell_type": "code",
   "execution_count": 13,
   "metadata": {},
   "outputs": [
    {
     "name": "stdout",
     "output_type": "stream",
     "text": [
      "Model: \"vgg16\"\n",
      "_________________________________________________________________\n",
      "Layer (type)                 Output Shape              Param #   \n",
      "=================================================================\n",
      "input_1 (InputLayer)         [(None, 150, 150, 3)]     0         \n",
      "_________________________________________________________________\n",
      "block1_conv1 (Conv2D)        (None, 150, 150, 64)      1792      \n",
      "_________________________________________________________________\n",
      "block1_conv2 (Conv2D)        (None, 150, 150, 64)      36928     \n",
      "_________________________________________________________________\n",
      "block1_pool (MaxPooling2D)   (None, 75, 75, 64)        0         \n",
      "_________________________________________________________________\n",
      "block2_conv1 (Conv2D)        (None, 75, 75, 128)       73856     \n",
      "_________________________________________________________________\n",
      "block2_conv2 (Conv2D)        (None, 75, 75, 128)       147584    \n",
      "_________________________________________________________________\n",
      "block2_pool (MaxPooling2D)   (None, 37, 37, 128)       0         \n",
      "_________________________________________________________________\n",
      "block3_conv1 (Conv2D)        (None, 37, 37, 256)       295168    \n",
      "_________________________________________________________________\n",
      "block3_conv2 (Conv2D)        (None, 37, 37, 256)       590080    \n",
      "_________________________________________________________________\n",
      "block3_conv3 (Conv2D)        (None, 37, 37, 256)       590080    \n",
      "_________________________________________________________________\n",
      "block3_pool (MaxPooling2D)   (None, 18, 18, 256)       0         \n",
      "_________________________________________________________________\n",
      "block4_conv1 (Conv2D)        (None, 18, 18, 512)       1180160   \n",
      "_________________________________________________________________\n",
      "block4_conv2 (Conv2D)        (None, 18, 18, 512)       2359808   \n",
      "_________________________________________________________________\n",
      "block4_conv3 (Conv2D)        (None, 18, 18, 512)       2359808   \n",
      "_________________________________________________________________\n",
      "block4_pool (MaxPooling2D)   (None, 9, 9, 512)         0         \n",
      "_________________________________________________________________\n",
      "block5_conv1 (Conv2D)        (None, 9, 9, 512)         2359808   \n",
      "_________________________________________________________________\n",
      "block5_conv2 (Conv2D)        (None, 9, 9, 512)         2359808   \n",
      "_________________________________________________________________\n",
      "block5_conv3 (Conv2D)        (None, 9, 9, 512)         2359808   \n",
      "_________________________________________________________________\n",
      "block5_pool (MaxPooling2D)   (None, 4, 4, 512)         0         \n",
      "=================================================================\n",
      "Total params: 14,714,688\n",
      "Trainable params: 14,714,688\n",
      "Non-trainable params: 0\n",
      "_________________________________________________________________\n"
     ]
    }
   ],
   "source": [
    "conv_base.summary()"
   ]
  },
  {
   "cell_type": "code",
   "execution_count": 14,
   "metadata": {},
   "outputs": [
    {
     "name": "stdout",
     "output_type": "stream",
     "text": [
      "Found 18000 images belonging to 2 classes.\n",
      "Found 2000 images belonging to 2 classes.\n"
     ]
    }
   ],
   "source": [
    "train_datagen = ImageDataGenerator(rescale=1./255)\n",
    "train_gen = train_datagen.flow_from_directory(extract_data.TRAIN_DATA_PATH,\n",
    "                                              target_size=(img_width, img_height),\n",
    "                                              batch_size=20,\n",
    "                                              class_mode='binary')\n",
    "\n",
    "val_datagen = ImageDataGenerator(rescale=1./255)\n",
    "val_gen = train_datagen.flow_from_directory(extract_data.VAL_DATA_PATH,\n",
    "                                            target_size=(img_width, img_height),\n",
    "                                            batch_size=20,\n",
    "                                            class_mode='binary')"
   ]
  },
  {
   "cell_type": "code",
   "execution_count": 15,
   "metadata": {},
   "outputs": [],
   "source": [
    "model = tf.keras.models.Sequential([\n",
    "    conv_base,\n",
    "    tf.keras.layers.Flatten(),\n",
    "    tf.keras.layers.Dense(256, activation='relu'),\n",
    "    tf.keras.layers.Dense(1, activation='sigmoid')\n",
    "])\n",
    "\n",
    "conv_base.trainable = False\n",
    "model.compile(optimizer=tf.keras.optimizers.Adam(lr=2e-5), loss='binary_crossentropy', metrics=['acc'])"
   ]
  },
  {
   "cell_type": "code",
   "execution_count": 16,
   "metadata": {},
   "outputs": [
    {
     "name": "stdout",
     "output_type": "stream",
     "text": [
      "WARNING:tensorflow:sample_weight modes were coerced from\n",
      "  ...\n",
      "    to  \n",
      "  ['...']\n",
      "WARNING:tensorflow:sample_weight modes were coerced from\n",
      "  ...\n",
      "    to  \n",
      "  ['...']\n",
      "Train for 100 steps, validate for 50 steps\n",
      "Epoch 1/30\n",
      "100/100 - 37s - loss: 0.5096 - acc: 0.7695 - val_loss: 0.3831 - val_acc: 0.8570\n",
      "Epoch 2/30\n",
      "100/100 - 32s - loss: 0.3586 - acc: 0.8525 - val_loss: 0.3397 - val_acc: 0.8500\n",
      "Epoch 3/30\n",
      "100/100 - 32s - loss: 0.3260 - acc: 0.8655 - val_loss: 0.2908 - val_acc: 0.8810\n",
      "Epoch 4/30\n",
      "100/100 - 32s - loss: 0.2827 - acc: 0.8840 - val_loss: 0.2735 - val_acc: 0.8920\n",
      "Epoch 5/30\n",
      "100/100 - 32s - loss: 0.2786 - acc: 0.8810 - val_loss: 0.2590 - val_acc: 0.8940\n",
      "Epoch 6/30\n",
      "100/100 - 32s - loss: 0.2590 - acc: 0.8940 - val_loss: 0.2565 - val_acc: 0.8880\n",
      "Epoch 7/30\n",
      "100/100 - 32s - loss: 0.2473 - acc: 0.9005 - val_loss: 0.2416 - val_acc: 0.9080\n",
      "Epoch 8/30\n",
      "100/100 - 32s - loss: 0.2388 - acc: 0.8980 - val_loss: 0.2388 - val_acc: 0.9020\n",
      "Epoch 9/30\n",
      "100/100 - 32s - loss: 0.2304 - acc: 0.9070 - val_loss: 0.2502 - val_acc: 0.8960\n",
      "Epoch 10/30\n",
      "100/100 - 32s - loss: 0.2330 - acc: 0.9065 - val_loss: 0.2291 - val_acc: 0.9080\n",
      "Epoch 11/30\n",
      "100/100 - 32s - loss: 0.2181 - acc: 0.9125 - val_loss: 0.2275 - val_acc: 0.9060\n",
      "Epoch 12/30\n",
      "100/100 - 32s - loss: 0.2279 - acc: 0.9030 - val_loss: 0.2229 - val_acc: 0.9040\n",
      "Epoch 13/30\n",
      "100/100 - 32s - loss: 0.2245 - acc: 0.9155 - val_loss: 0.2184 - val_acc: 0.9160\n",
      "Epoch 14/30\n",
      "100/100 - 32s - loss: 0.2038 - acc: 0.9190 - val_loss: 0.2313 - val_acc: 0.9010\n",
      "Epoch 15/30\n",
      "100/100 - 32s - loss: 0.2109 - acc: 0.9205 - val_loss: 0.2156 - val_acc: 0.9180\n",
      "Epoch 16/30\n",
      "100/100 - 32s - loss: 0.2044 - acc: 0.9130 - val_loss: 0.2159 - val_acc: 0.9120\n",
      "Epoch 17/30\n",
      "100/100 - 32s - loss: 0.2079 - acc: 0.9165 - val_loss: 0.2195 - val_acc: 0.9090\n",
      "Epoch 18/30\n",
      "100/100 - 32s - loss: 0.1983 - acc: 0.9235 - val_loss: 0.2210 - val_acc: 0.9030\n",
      "Epoch 19/30\n",
      "100/100 - 32s - loss: 0.2010 - acc: 0.9125 - val_loss: 0.2132 - val_acc: 0.9120\n",
      "Epoch 20/30\n",
      "100/100 - 32s - loss: 0.2036 - acc: 0.9150 - val_loss: 0.2119 - val_acc: 0.9110\n",
      "Epoch 21/30\n",
      "100/100 - 32s - loss: 0.1830 - acc: 0.9310 - val_loss: 0.2115 - val_acc: 0.9140\n",
      "Epoch 22/30\n",
      "100/100 - 32s - loss: 0.1845 - acc: 0.9235 - val_loss: 0.2146 - val_acc: 0.9100\n",
      "Epoch 23/30\n",
      "100/100 - 32s - loss: 0.1839 - acc: 0.9270 - val_loss: 0.2148 - val_acc: 0.9130\n",
      "Epoch 24/30\n",
      "100/100 - 32s - loss: 0.1755 - acc: 0.9270 - val_loss: 0.2158 - val_acc: 0.9100\n",
      "Epoch 25/30\n",
      "100/100 - 32s - loss: 0.1825 - acc: 0.9265 - val_loss: 0.2115 - val_acc: 0.9100\n",
      "Epoch 26/30\n",
      "100/100 - 32s - loss: 0.1920 - acc: 0.9210 - val_loss: 0.2046 - val_acc: 0.9200\n",
      "Epoch 27/30\n",
      "100/100 - 32s - loss: 0.1749 - acc: 0.9270 - val_loss: 0.2400 - val_acc: 0.8930\n",
      "Epoch 28/30\n",
      "100/100 - 32s - loss: 0.1916 - acc: 0.9205 - val_loss: 0.2042 - val_acc: 0.9130\n",
      "Epoch 29/30\n",
      "100/100 - 32s - loss: 0.1916 - acc: 0.9245 - val_loss: 0.2003 - val_acc: 0.9160\n",
      "Epoch 30/30\n",
      "100/100 - 33s - loss: 0.1915 - acc: 0.9220 - val_loss: 0.2004 - val_acc: 0.9140\n"
     ]
    }
   ],
   "source": [
    "history = model.fit(train_gen, steps_per_epoch=100, \n",
    "                    epochs=30,\n",
    "                    validation_data=val_gen, validation_steps=50, \n",
    "                    verbose=2)"
   ]
  },
  {
   "cell_type": "code",
   "execution_count": 17,
   "metadata": {},
   "outputs": [
    {
     "data": {
      "text/plain": [
       "<matplotlib.legend.Legend at 0x19c8ff75188>"
      ]
     },
     "execution_count": 17,
     "metadata": {},
     "output_type": "execute_result"
    },
    {
     "data": {
      "image/png": "[encoded data removed]",
      "text/plain": [
       "<Figure size 432x288 with 1 Axes>"
      ]
     },
     "metadata": {
      "needs_background": "light"
     },
     "output_type": "display_data"
    }
   ],
   "source": [
    "hist_dict = history.history\n",
    "train_acc = hist_dict['acc']\n",
    "val_acc = hist_dict['val_acc']\n",
    "\n",
    "epochs = np.arange(1, 31)\n",
    "\n",
    "plt.plot(epochs, train_acc, 'bo', label='Train accuracy')\n",
    "plt.plot(epochs, val_acc, 'r-', label='Validation accuracy')\n",
    "plt.grid()\n",
    "plt.legend(loc='best')"
   ]
  },
  {
   "cell_type": "code",
   "execution_count": 18,
   "metadata": {},
   "outputs": [
    {
     "data": {
      "text/plain": [
       "<matplotlib.legend.Legend at 0x19c8fffbe88>"
      ]
     },
     "execution_count": 18,
     "metadata": {},
     "output_type": "execute_result"
    },
    {
     "data": {
      "image/png": "[encoded data removed]",
      "text/plain": [
       "<Figure size 432x288 with 1 Axes>"
      ]
     },
     "metadata": {
      "needs_background": "light"
     },
     "output_type": "display_data"
    }
   ],
   "source": [
    "train_loss = hist_dict['loss']\n",
    "val_loss = hist_dict['val_loss']\n",
    "\n",
    "plt.plot(epochs, train_loss, 'bo', label='Train loss')\n",
    "plt.plot(epochs, val_loss, 'r-', label='Validation loss')\n",
    "plt.grid()\n",
    "plt.legend(loc='best')"
   ]
  },
  {
   "cell_type": "code",
   "execution_count": 20,
   "metadata": {},
   "outputs": [
    {
     "name": "stdout",
     "output_type": "stream",
     "text": [
      "Found 5000 images belonging to 2 classes.\n",
      "WARNING:tensorflow:sample_weight modes were coerced from\n",
      "  ...\n",
      "    to  \n",
      "  ['...']\n",
      "250/250 - 53s - loss: 0.2227 - acc: 0.9090\n",
      "Model accuracy : 0.9089999794960022\n",
      "Model loss : 0.2227451630309224\n"
     ]
    }
   ],
   "source": [
    "test_datagen = ImageDataGenerator(rescale=1./255)\n",
    "test_gen = train_datagen.flow_from_directory(extract_data.TEST_DATA_PATH,\n",
    "                                            target_size=(img_width, img_height),\n",
    "                                            batch_size=20,\n",
    "                                            class_mode='binary')\n",
    "\n",
    "test_loss, test_acc = model.evaluate(test_gen, verbose=2)\n",
    "print(f'Model accuracy : {test_acc}\\nModel loss : {test_loss}')"
   ]
  }
 ],
 "metadata": {
  "kernelspec": {
   "display_name": "Python 3",
   "language": "python",
   "name": "python3"
  },
  "language_info": {
   "codemirror_mode": {
    "name": "ipython",
    "version": 3
   },
   "file_extension": ".py",
   "mimetype": "text/x-python",
   "name": "python",
   "nbconvert_exporter": "python",
   "pygments_lexer": "ipython3",
   "version": "3.7.4"
  },
  "varInspector": {
   "cols": {
    "lenName": 16,
    "lenType": 16,
    "lenVar": 40
   },
   "kernels_config": {
    "python": {
     "delete_cmd_postfix": "",
     "delete_cmd_prefix": "del ",
     "library": "var_list.py",
     "varRefreshCmd": "print(var_dic_list())"
    },
    "r": {
     "delete_cmd_postfix": ") ",
     "delete_cmd_prefix": "rm(",
     "library": "var_list.r",
     "varRefreshCmd": "cat(var_dic_list()) "
    }
   },
   "types_to_exclude": [
    "module",
    "function",
    "builtin_function_or_method",
    "instance",
    "_Feature"
   ],
   "window_display": false
  }
 },
 "nbformat": 4,
 "nbformat_minor": 2
}
